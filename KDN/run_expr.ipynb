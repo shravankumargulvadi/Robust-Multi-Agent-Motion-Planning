{
 "cells": [
  {
   "cell_type": "code",
   "execution_count": 1,
   "metadata": {},
   "outputs": [],
   "source": [
    "%load_ext autoreload\n",
    "%autoreload 2"
   ]
  },
  {
   "cell_type": "code",
   "execution_count": 1,
   "metadata": {},
   "outputs": [],
   "source": [
    "import numpy as np\n",
    "import pickle\n",
    "import glob\n",
    "from atpg import uniform_agent_aug_tpg\n",
    "from tpg import  plan_to_tpg\n",
    "from util import read_plan\n",
    "from tpg_milp import TPG_MILP"
   ]
  },
  {
   "cell_type": "markdown",
   "metadata": {},
   "source": [
    "# Experiments in the paper"
   ]
  },
  {
   "cell_type": "code",
   "execution_count": 2,
   "metadata": {
    "scrolled": true
   },
   "outputs": [],
   "source": [
    "# load archived preprocessed data\n",
    "with open(\"delta_05_dec_10.pkl\", \"rb\") as f:\n",
    "    dp_normal = pickle.load(f)\n",
    "with open(\"delta_025_dec_10.pkl\", \"rb\") as f:\n",
    "    dp_safe = pickle.load(f)"
   ]
  },
  {
   "cell_type": "code",
   "execution_count": 3,
   "metadata": {},
   "outputs": [],
   "source": [
    "def run_exp(file):\n",
    "    atpg = uniform_agent_aug_tpg(plan_to_tpg((read_plan(file, skip_line=1))), dp_normal, dp_safe)\n",
    "    mip = TPG_MILP(atpg)\n",
    "    if mip.optimize() != 'optimal':\n",
    "        logger.warning(\"%s is not solved\"%file)\n",
    "        return (False, -1)\n",
    "    else:\n",
    "        return (True, mip.opt_time)\n",
    "    "
   ]
  },
  {
   "cell_type": "code",
   "execution_count": 4,
   "metadata": {
    "scrolled": true
   },
   "outputs": [],
   "source": [
    "files = glob.glob(\"./data/%s-20-%s/*\"%(20, 12))\n",
    "files = [f for f in files if f[-4:] != \".pkl\"]"
   ]
  },
  {
   "cell_type": "code",
   "execution_count": 5,
   "metadata": {},
   "outputs": [],
   "source": [
    "# reading mapf time\n",
    "def read_time(fname):\n",
    "    with open(fname, \"r\") as f:\n",
    "        l = f.readline().strip()\n",
    "        time = float([word.strip() for word in l.split(\":\") if word != ''][-1])\n",
    "    return time"
   ]
  },
  {
   "cell_type": "markdown",
   "metadata": {},
   "source": [
    "# different obstacle rate"
   ]
  },
  {
   "cell_type": "code",
   "execution_count": 6,
   "metadata": {
    "scrolled": true
   },
   "outputs": [
    {
     "name": "stdout",
     "output_type": "stream",
     "text": [
      "(3,4)\n",
      "(4,4)\n",
      "(5,4)\n",
      "(3,3)\n",
      "(3,1)\n",
      "(3,2)\n",
      "(3,3)\n",
      "(2,3)\n",
      "(0,3)\n",
      "(0,2)\n",
      "(0,1)\n",
      "(3,1)\n",
      "(4,1)\n",
      "(2,5)\n",
      "(2,6)\n",
      "(1,0)\n",
      "(1,1)\n",
      "(1,3)\n",
      "(0,6)\n",
      "(3,4)\n",
      "(3,3)\n"
     ]
    },
    {
     "name": "stderr",
     "output_type": "stream",
     "text": [
      "08:23:53 INFO:Variable number: 5517\n",
      "08:23:53 INFO:Constraints number: 5601\n",
      "08:23:55 INFO:Optimized in 1.3359649181365967 sec\n"
     ]
    },
    {
     "name": "stdout",
     "output_type": "stream",
     "text": [
      "(3,5)\n",
      "(4,4)\n",
      "(4,3)\n",
      "(5,3)\n",
      "(4,3)\n",
      "(2,2)\n",
      "(0,2)\n",
      "(4,0)\n",
      "(4,1)\n",
      "(4,2)\n",
      "(3,2)\n",
      "(2,2)\n",
      "(1,2)\n",
      "(0,2)\n",
      "(0,3)\n",
      "(3,2)\n",
      "(2,2)\n",
      "(1,2)\n",
      "(0,2)\n",
      "(0,1)\n",
      "(4,5)\n",
      "(4,4)\n",
      "(6,3)\n",
      "(5,3)\n",
      "(4,3)\n",
      "(3,3)\n",
      "(3,2)\n",
      "(2,2)\n",
      "(1,2)\n",
      "(1,1)\n",
      "(0,1)\n"
     ]
    },
    {
     "name": "stderr",
     "output_type": "stream",
     "text": [
      "08:23:55 INFO:Variable number: 6922\n",
      "08:23:55 INFO:Constraints number: 7067\n",
      "08:23:57 INFO:Optimized in 1.531301498413086 sec\n"
     ]
    },
    {
     "name": "stdout",
     "output_type": "stream",
     "text": [
      "(5,6)\n",
      "(6,5)\n",
      "(6,6)\n",
      "(6,6)\n",
      "(6,5)\n",
      "(4,6)\n",
      "(3,6)\n",
      "(2,6)\n",
      "(1,6)\n",
      "(5,5)\n",
      "(4,5)\n",
      "(4,6)\n",
      "(5,1)\n",
      "(4,6)\n",
      "(5,6)\n",
      "(6,6)\n",
      "(5,0)\n",
      "(6,0)\n"
     ]
    },
    {
     "name": "stderr",
     "output_type": "stream",
     "text": [
      "08:23:57 INFO:Variable number: 5410\n",
      "08:23:57 INFO:Constraints number: 5458\n",
      "08:23:58 INFO:Optimized in 1.2053930759429932 sec\n"
     ]
    },
    {
     "name": "stdout",
     "output_type": "stream",
     "text": [
      "(5,5)\n",
      "(6,6)\n",
      "(3,3)\n",
      "(2,3)\n",
      "(2,4)\n",
      "(2,5)\n",
      "(3,5)\n",
      "(4,5)\n",
      "(5,5)\n",
      "(5,6)\n",
      "(1,2)\n",
      "(2,2)\n",
      "(2,3)\n",
      "(2,4)\n",
      "(2,5)\n",
      "(3,5)\n",
      "(4,5)\n",
      "(5,5)\n",
      "(5,6)\n",
      "(6,6)\n",
      "(6,7)\n",
      "(3,5)\n",
      "(4,5)\n",
      "(5,5)\n",
      "(5,4)\n",
      "(5,3)\n",
      "(4,3)\n",
      "(3,3)\n",
      "(3,1)\n",
      "(3,2)\n",
      "(3,3)\n",
      "(2,3)\n",
      "(2,4)\n",
      "(2,5)\n",
      "(1,0)\n",
      "(1,1)\n",
      "(1,2)\n",
      "(1,3)\n",
      "(2,3)\n",
      "(2,4)\n",
      "(2,5)\n",
      "(4,1)\n",
      "(4,3)\n",
      "(5,3)\n"
     ]
    },
    {
     "name": "stderr",
     "output_type": "stream",
     "text": [
      "08:23:59 INFO:Variable number: 7894\n",
      "08:23:59 INFO:Constraints number: 8106\n",
      "08:24:01 INFO:Optimized in 1.8708176612854004 sec\n"
     ]
    },
    {
     "name": "stdout",
     "output_type": "stream",
     "text": [
      "(2,1)\n",
      "(1,1)\n",
      "(3,1)\n",
      "(4,1)\n",
      "(5,1)\n",
      "(2,7)\n",
      "(2,5)\n",
      "(5,5)\n",
      "(5,6)\n",
      "(6,5)\n",
      "(2,4)\n",
      "(4,4)\n",
      "(5,4)\n",
      "(6,4)\n"
     ]
    },
    {
     "ename": "KeyboardInterrupt",
     "evalue": "",
     "output_type": "error",
     "traceback": [
      "\u001b[1;31m---------------------------------------------------------------------------\u001b[0m",
      "\u001b[1;31mKeyboardInterrupt\u001b[0m                         Traceback (most recent call last)",
      "\u001b[1;32me:\\study\\study\\Masters\\Research\\Multiagent Systems\\code\\KDN\\run_expr.ipynb Cell 9\u001b[0m in \u001b[0;36m<cell line: 1>\u001b[1;34m()\u001b[0m\n\u001b[0;32m      <a href='vscode-notebook-cell:/e%3A/study/study/Masters/Research/Multiagent%20Systems/code/KDN/run_expr.ipynb#X11sZmlsZQ%3D%3D?line=5'>6</a>\u001b[0m num \u001b[39m=\u001b[39m \u001b[39mlen\u001b[39m(files)\n\u001b[0;32m      <a href='vscode-notebook-cell:/e%3A/study/study/Masters/Research/Multiagent%20Systems/code/KDN/run_expr.ipynb#X11sZmlsZQ%3D%3D?line=6'>7</a>\u001b[0m \u001b[39mfor\u001b[39;00m f \u001b[39min\u001b[39;00m files:\n\u001b[1;32m----> <a href='vscode-notebook-cell:/e%3A/study/study/Masters/Research/Multiagent%20Systems/code/KDN/run_expr.ipynb#X11sZmlsZQ%3D%3D?line=7'>8</a>\u001b[0m     flag, t \u001b[39m=\u001b[39m run_exp(f)\n\u001b[0;32m      <a href='vscode-notebook-cell:/e%3A/study/study/Masters/Research/Multiagent%20Systems/code/KDN/run_expr.ipynb#X11sZmlsZQ%3D%3D?line=8'>9</a>\u001b[0m     \u001b[39mif\u001b[39;00m flag:\n\u001b[0;32m     <a href='vscode-notebook-cell:/e%3A/study/study/Masters/Research/Multiagent%20Systems/code/KDN/run_expr.ipynb#X11sZmlsZQ%3D%3D?line=9'>10</a>\u001b[0m         solved_num\u001b[39m+\u001b[39m\u001b[39m=\u001b[39m \u001b[39m1\u001b[39m\n",
      "\u001b[1;32me:\\study\\study\\Masters\\Research\\Multiagent Systems\\code\\KDN\\run_expr.ipynb Cell 9\u001b[0m in \u001b[0;36mrun_exp\u001b[1;34m(file)\u001b[0m\n\u001b[0;32m      <a href='vscode-notebook-cell:/e%3A/study/study/Masters/Research/Multiagent%20Systems/code/KDN/run_expr.ipynb#X11sZmlsZQ%3D%3D?line=0'>1</a>\u001b[0m \u001b[39mdef\u001b[39;00m \u001b[39mrun_exp\u001b[39m(file):\n\u001b[0;32m      <a href='vscode-notebook-cell:/e%3A/study/study/Masters/Research/Multiagent%20Systems/code/KDN/run_expr.ipynb#X11sZmlsZQ%3D%3D?line=1'>2</a>\u001b[0m     atpg \u001b[39m=\u001b[39m uniform_agent_aug_tpg(plan_to_tpg((read_plan(file, skip_line\u001b[39m=\u001b[39m\u001b[39m1\u001b[39m))), dp_normal, dp_safe)\n\u001b[1;32m----> <a href='vscode-notebook-cell:/e%3A/study/study/Masters/Research/Multiagent%20Systems/code/KDN/run_expr.ipynb#X11sZmlsZQ%3D%3D?line=2'>3</a>\u001b[0m     mip \u001b[39m=\u001b[39m TPG_MILP(atpg)\n\u001b[0;32m      <a href='vscode-notebook-cell:/e%3A/study/study/Masters/Research/Multiagent%20Systems/code/KDN/run_expr.ipynb#X11sZmlsZQ%3D%3D?line=3'>4</a>\u001b[0m     \u001b[39mif\u001b[39;00m mip\u001b[39m.\u001b[39moptimize() \u001b[39m!=\u001b[39m \u001b[39m'\u001b[39m\u001b[39moptimal\u001b[39m\u001b[39m'\u001b[39m:\n\u001b[0;32m      <a href='vscode-notebook-cell:/e%3A/study/study/Masters/Research/Multiagent%20Systems/code/KDN/run_expr.ipynb#X11sZmlsZQ%3D%3D?line=4'>5</a>\u001b[0m         logger\u001b[39m.\u001b[39mwarning(\u001b[39m\"\u001b[39m\u001b[39m%s\u001b[39;00m\u001b[39m is not solved\u001b[39m\u001b[39m\"\u001b[39m\u001b[39m%\u001b[39mfile)\n",
      "File \u001b[1;32me:\\study\\study\\Masters\\Research\\Multiagent Systems\\code\\KDN\\tpg_milp.py:102\u001b[0m, in \u001b[0;36mTPG_MILP.__init__\u001b[1;34m(self, tpg)\u001b[0m\n\u001b[0;32m    100\u001b[0m \u001b[39mdef\u001b[39;00m \u001b[39m__init__\u001b[39m(\u001b[39mself\u001b[39m, tpg):\n\u001b[0;32m    101\u001b[0m     \u001b[39mself\u001b[39m\u001b[39m.\u001b[39mtpg \u001b[39m=\u001b[39m tpg\n\u001b[1;32m--> 102\u001b[0m     \u001b[39mself\u001b[39m\u001b[39m.\u001b[39mmodel, (\u001b[39mself\u001b[39m\u001b[39m.\u001b[39mnode_var_dic, \u001b[39mself\u001b[39m\u001b[39m.\u001b[39mtype1_var_dic , \u001b[39mself\u001b[39m\u001b[39m.\u001b[39mtable_type1_var_dic) \u001b[39m=\u001b[39m tpg2milp(tpg)\n\u001b[0;32m    103\u001b[0m     logger\u001b[39m.\u001b[39minfo(\u001b[39m\"\u001b[39m\u001b[39mVariable number: \u001b[39m\u001b[39m%s\u001b[39;00m\u001b[39m\"\u001b[39m\u001b[39m%\u001b[39m\u001b[39mlen\u001b[39m(\u001b[39mself\u001b[39m\u001b[39m.\u001b[39mmodel\u001b[39m.\u001b[39mgetVars()))\n\u001b[0;32m    104\u001b[0m     logger\u001b[39m.\u001b[39minfo(\u001b[39m\"\u001b[39m\u001b[39mConstraints number: \u001b[39m\u001b[39m%s\u001b[39;00m\u001b[39m\"\u001b[39m\u001b[39m%\u001b[39m\u001b[39mlen\u001b[39m(\u001b[39mself\u001b[39m\u001b[39m.\u001b[39mmodel\u001b[39m.\u001b[39mgetConss()))\n",
      "File \u001b[1;32me:\\study\\study\\Masters\\Research\\Multiagent Systems\\code\\KDN\\tpg_milp.py:82\u001b[0m, in \u001b[0;36mtpg2milp\u001b[1;34m(tpg)\u001b[0m\n\u001b[0;32m     78\u001b[0m         t_var \u001b[39m=\u001b[39m table_type1_var_dic[node_0][t]\n\u001b[0;32m     80\u001b[0m         next_state \u001b[39m=\u001b[39m t[\u001b[39m1\u001b[39m]\n\u001b[1;32m---> 82\u001b[0m         model\u001b[39m.\u001b[39maddCons(t_var \u001b[39m<\u001b[39m\u001b[39m=\u001b[39m quicksum([table_type1_var_dic[node_1][t_next]\n\u001b[0;32m     83\u001b[0m                                          \u001b[39mfor\u001b[39;00m t_next \u001b[39min\u001b[39;00m dp_next\u001b[39m.\u001b[39mtrans_start_with(next_state)]))\n\u001b[0;32m     86\u001b[0m \u001b[39mfor\u001b[39;00m agent \u001b[39min\u001b[39;00m tpg\u001b[39m.\u001b[39mtpg:\n\u001b[0;32m     87\u001b[0m     \u001b[39mif\u001b[39;00m \u001b[39mlen\u001b[39m(agent) \u001b[39m>\u001b[39m \u001b[39m1\u001b[39m:\n",
      "File \u001b[1;32me:\\study\\study\\Masters\\Research\\Multiagent Systems\\code\\KDN\\tpg_milp.py:82\u001b[0m, in \u001b[0;36m<listcomp>\u001b[1;34m(.0)\u001b[0m\n\u001b[0;32m     78\u001b[0m         t_var \u001b[39m=\u001b[39m table_type1_var_dic[node_0][t]\n\u001b[0;32m     80\u001b[0m         next_state \u001b[39m=\u001b[39m t[\u001b[39m1\u001b[39m]\n\u001b[1;32m---> 82\u001b[0m         model\u001b[39m.\u001b[39maddCons(t_var \u001b[39m<\u001b[39m\u001b[39m=\u001b[39m quicksum([table_type1_var_dic[node_1][t_next]\n\u001b[0;32m     83\u001b[0m                                          \u001b[39mfor\u001b[39;00m t_next \u001b[39min\u001b[39;00m dp_next\u001b[39m.\u001b[39mtrans_start_with(next_state)]))\n\u001b[0;32m     86\u001b[0m \u001b[39mfor\u001b[39;00m agent \u001b[39min\u001b[39;00m tpg\u001b[39m.\u001b[39mtpg:\n\u001b[0;32m     87\u001b[0m     \u001b[39mif\u001b[39;00m \u001b[39mlen\u001b[39m(agent) \u001b[39m>\u001b[39m \u001b[39m1\u001b[39m:\n",
      "\u001b[1;31mKeyboardInterrupt\u001b[0m: "
     ]
    }
   ],
   "source": [
    "for obs_rate in [10, 15, 20, 25, 30, 35]:\n",
    "    solved_num = 0\n",
    "    total_time = 0\n",
    "    files = glob.glob(\"./data/8-%s-10/*\"%obs_rate)\n",
    "    files = [f for f in files if f[-4:] != \".pkl\"]\n",
    "    num = len(files)\n",
    "    for f in files:\n",
    "        flag, t = run_exp(f)\n",
    "        if flag:\n",
    "            solved_num+= 1\n",
    "            total_time += t\n",
    "\n",
    "    str = \"8 agents on size-10 grid with %s obs rate\"%obs_rate + \", Solved %s/%s\\t Avg Time: %s\"%(solved_num, num, total_time/max(solved_num, 1))\n",
    "    print(str)\n",
    "   # report += str + \"\\n\""
   ]
  },
  {
   "cell_type": "code",
   "execution_count": 8,
   "metadata": {
    "scrolled": true
   },
   "outputs": [
    {
     "ename": "NameError",
     "evalue": "name 'report' is not defined",
     "output_type": "error",
     "traceback": [
      "\u001b[1;31m---------------------------------------------------------------------------\u001b[0m",
      "\u001b[1;31mNameError\u001b[0m                                 Traceback (most recent call last)",
      "\u001b[1;32me:\\study\\study\\Masters\\Research\\Multiagent Systems\\code\\KDN\\run_expr.ipynb Cell 10\u001b[0m in \u001b[0;36m<cell line: 1>\u001b[1;34m()\u001b[0m\n\u001b[1;32m----> <a href='vscode-notebook-cell:/e%3A/study/study/Masters/Research/Multiagent%20Systems/code/KDN/run_expr.ipynb#X12sZmlsZQ%3D%3D?line=0'>1</a>\u001b[0m \u001b[39mprint\u001b[39m(report)\n",
      "\u001b[1;31mNameError\u001b[0m: name 'report' is not defined"
     ]
    }
   ],
   "source": [
    "print(report)"
   ]
  },
  {
   "cell_type": "code",
   "execution_count": 8,
   "metadata": {},
   "outputs": [
    {
     "name": "stdout",
     "output_type": "stream",
     "text": [
      "Obs: 10\t, Avg Time: 296.5210666666666\n",
      "Obs: 15\t, Avg Time: 507.41046666666676\n",
      "Obs: 20\t, Avg Time: 1142.0034333333338\n",
      "Obs: 25\t, Avg Time: 19076.726999999977\n",
      "Obs: 30\t, Avg Time: 53692.8048125\n",
      "Obs: 35\t, Avg Time: 8621.5979999996\n"
     ]
    }
   ],
   "source": [
    "for obs_rate in [10, 15, 20, 25, 30, 35]:\n",
    "    files = glob.glob(\"./data/8-%s-10/*\"%obs_rate)\n",
    "    files = [f for f in files if f[-4:] != \".pkl\"]\n",
    "    time = [read_time(f) for f in files]\n",
    "\n",
    "    str = \"Obs: %s\\t\"%obs_rate +  \", Avg Time: %s\"%np.average(time)\n",
    "    print(str)"
   ]
  },
  {
   "cell_type": "markdown",
   "metadata": {},
   "source": [
    "# Warehouse map"
   ]
  },
  {
   "cell_type": "code",
   "execution_count": 7,
   "metadata": {},
   "outputs": [],
   "source": [
    "warehouse_report = \"\""
   ]
  },
  {
   "cell_type": "code",
   "execution_count": 9,
   "metadata": {},
   "outputs": [
    {
     "name": "stderr",
     "output_type": "stream",
     "text": [
      "09:48:46 INFO:Variable number: 4538\n",
      "09:48:46 INFO:Constraints number: 4737\n",
      "09:48:49 INFO:Optimized in 3.23506236076355 sec\n",
      "09:48:50 INFO:Variable number: 4430\n",
      "09:48:50 INFO:Constraints number: 4641\n",
      "09:48:53 INFO:Optimized in 3.402345895767212 sec\n",
      "09:48:54 INFO:Variable number: 4970\n",
      "09:48:54 INFO:Constraints number: 5195\n",
      "09:48:57 INFO:Optimized in 3.3643856048583984 sec\n",
      "09:48:58 INFO:Variable number: 4430\n",
      "09:48:58 INFO:Constraints number: 4625\n",
      "09:49:01 INFO:Optimized in 3.328793525695801 sec\n",
      "09:49:02 INFO:Variable number: 4322\n",
      "09:49:02 INFO:Constraints number: 4510\n",
      "09:49:05 INFO:Optimized in 2.9607300758361816 sec\n",
      "09:49:06 INFO:Variable number: 4214\n",
      "09:49:06 INFO:Constraints number: 4396\n",
      "09:49:09 INFO:Optimized in 2.7782516479492188 sec\n",
      "09:49:10 INFO:Variable number: 3782\n",
      "09:49:10 INFO:Constraints number: 3938\n",
      "09:49:12 INFO:Optimized in 2.1543285846710205 sec\n",
      "09:49:12 INFO:Variable number: 3890\n",
      "09:49:12 INFO:Constraints number: 4052\n",
      "09:49:14 INFO:Optimized in 1.6822574138641357 sec\n",
      "09:49:15 INFO:Variable number: 4862\n",
      "09:49:15 INFO:Constraints number: 5079\n",
      "09:49:18 INFO:Optimized in 3.3054447174072266 sec\n",
      "09:49:19 INFO:Variable number: 4106\n",
      "09:49:19 INFO:Constraints number: 4280\n",
      "09:49:21 INFO:Optimized in 1.742142915725708 sec\n",
      "09:49:21 INFO:Variable number: 3998\n",
      "09:49:21 INFO:Constraints number: 4166\n",
      "09:49:23 INFO:Optimized in 1.6619484424591064 sec\n",
      "09:49:24 INFO:Variable number: 3998\n",
      "09:49:24 INFO:Constraints number: 4166\n",
      "09:49:26 INFO:Optimized in 1.7338371276855469 sec\n",
      "09:49:26 INFO:Variable number: 4538\n",
      "09:49:26 INFO:Constraints number: 4737\n",
      "09:49:29 INFO:Optimized in 2.730333089828491 sec\n",
      "09:49:30 INFO:Variable number: 4214\n",
      "09:49:30 INFO:Constraints number: 4395\n",
      "09:49:32 INFO:Optimized in 2.630009174346924 sec\n",
      "09:49:33 INFO:Variable number: 4646\n",
      "09:49:33 INFO:Constraints number: 4850\n",
      "09:49:36 INFO:Optimized in 2.3288230895996094 sec\n",
      "09:49:36 INFO:Variable number: 4430\n",
      "09:49:36 INFO:Constraints number: 4624\n",
      "09:49:40 INFO:Optimized in 3.1617813110351562 sec\n",
      "09:49:40 INFO:Variable number: 4322\n",
      "09:49:40 INFO:Constraints number: 4508\n",
      "09:49:43 INFO:Optimized in 2.296553611755371 sec\n",
      "09:49:43 INFO:Variable number: 4214\n",
      "09:49:43 INFO:Constraints number: 4395\n",
      "09:49:46 INFO:Optimized in 2.96295428276062 sec\n",
      "09:49:47 INFO:Variable number: 4322\n",
      "09:49:47 INFO:Constraints number: 4510\n",
      "09:49:50 INFO:Optimized in 3.107978343963623 sec\n",
      "09:49:51 INFO:Variable number: 4646\n",
      "09:49:51 INFO:Constraints number: 4854\n",
      "09:49:55 INFO:Optimized in 3.3680219650268555 sec\n",
      "09:49:55 INFO:Variable number: 4106\n",
      "09:49:55 INFO:Constraints number: 4280\n",
      "09:49:57 INFO:Optimized in 1.7079980373382568 sec\n",
      "09:49:58 INFO:Variable number: 4754\n",
      "09:49:58 INFO:Constraints number: 4975\n",
      "09:50:01 INFO:Optimized in 3.3860833644866943 sec\n",
      "09:50:02 INFO:Variable number: 4106\n",
      "09:50:02 INFO:Constraints number: 4280\n",
      "09:50:04 INFO:Optimized in 1.7461826801300049 sec\n",
      "09:50:05 INFO:Variable number: 4430\n",
      "09:50:05 INFO:Constraints number: 4631\n",
      "09:50:08 INFO:Optimized in 3.0201475620269775 sec\n",
      "09:50:08 INFO:Variable number: 3782\n",
      "09:50:08 INFO:Constraints number: 3938\n",
      "09:50:11 INFO:Optimized in 2.1018736362457275 sec\n",
      "09:50:11 INFO:Variable number: 4322\n",
      "09:50:11 INFO:Constraints number: 4508\n",
      "09:50:13 INFO:Optimized in 1.9507687091827393 sec\n",
      "09:50:14 INFO:Variable number: 4214\n",
      "09:50:14 INFO:Constraints number: 4394\n",
      "09:50:16 INFO:Optimized in 1.7094781398773193 sec\n",
      "09:50:17 INFO:Variable number: 4754\n",
      "09:50:17 INFO:Constraints number: 4968\n",
      "09:50:20 INFO:Optimized in 3.237492799758911 sec\n",
      "09:50:21 INFO:Variable number: 4646\n",
      "09:50:21 INFO:Constraints number: 4854\n",
      "09:50:24 INFO:Optimized in 3.213815689086914 sec\n",
      "09:50:25 INFO:Variable number: 4970\n",
      "09:50:25 INFO:Constraints number: 5197\n",
      "09:50:28 INFO:Optimized in 3.2742884159088135 sec\n"
     ]
    },
    {
     "name": "stdout",
     "output_type": "stream",
     "text": [
      "Warehouse 2 agents, Solved 30/30\t Avg Time: 2.642803740501404\n"
     ]
    },
    {
     "ename": "NameError",
     "evalue": "name 'warehouse_report' is not defined",
     "output_type": "error",
     "traceback": [
      "\u001b[1;31m---------------------------------------------------------------------------\u001b[0m",
      "\u001b[1;31mNameError\u001b[0m                                 Traceback (most recent call last)",
      "\u001b[1;32me:\\study\\study\\Masters\\Research\\Multiagent Systems\\code\\KDN\\run_expr.ipynb Cell 14\u001b[0m in \u001b[0;36m<cell line: 1>\u001b[1;34m()\u001b[0m\n\u001b[0;32m     <a href='vscode-notebook-cell:/e%3A/study/study/Masters/Research/Multiagent%20Systems/code/KDN/run_expr.ipynb#X16sZmlsZQ%3D%3D?line=12'>13</a>\u001b[0m \u001b[39mstr\u001b[39m \u001b[39m=\u001b[39m \u001b[39m\"\u001b[39m\u001b[39mWarehouse \u001b[39m\u001b[39m%s\u001b[39;00m\u001b[39m agents\u001b[39m\u001b[39m\"\u001b[39m\u001b[39m%\u001b[39magent_num \u001b[39m+\u001b[39m \u001b[39m\"\u001b[39m\u001b[39m, Solved \u001b[39m\u001b[39m%s\u001b[39;00m\u001b[39m/\u001b[39m\u001b[39m%s\u001b[39;00m\u001b[39m\\t\u001b[39;00m\u001b[39m Avg Time: \u001b[39m\u001b[39m%s\u001b[39;00m\u001b[39m\"\u001b[39m\u001b[39m%\u001b[39m(solved_num, num, total_time\u001b[39m/\u001b[39m\u001b[39mmax\u001b[39m(solved_num, \u001b[39m1\u001b[39m))\n\u001b[0;32m     <a href='vscode-notebook-cell:/e%3A/study/study/Masters/Research/Multiagent%20Systems/code/KDN/run_expr.ipynb#X16sZmlsZQ%3D%3D?line=13'>14</a>\u001b[0m \u001b[39mprint\u001b[39m(\u001b[39mstr\u001b[39m)\n\u001b[1;32m---> <a href='vscode-notebook-cell:/e%3A/study/study/Masters/Research/Multiagent%20Systems/code/KDN/run_expr.ipynb#X16sZmlsZQ%3D%3D?line=14'>15</a>\u001b[0m warehouse_report \u001b[39m+\u001b[39m\u001b[39m=\u001b[39m \u001b[39mstr\u001b[39m \u001b[39m+\u001b[39m \u001b[39m\"\u001b[39m\u001b[39m\\n\u001b[39;00m\u001b[39m\"\u001b[39m\n",
      "\u001b[1;31mNameError\u001b[0m: name 'warehouse_report' is not defined"
     ]
    }
   ],
   "source": [
    "for agent_num in [2, 4, 6, 8, 10, 12, 14]:\n",
    "    solved_num = 0\n",
    "    total_time = 0\n",
    "    files = glob.glob(\"./data/warehouse/%s/*\"%agent_num)\n",
    "    files = [f for f in files if f[-4:] != \".pkl\"]\n",
    "    num = len(files)\n",
    "    for f in files:\n",
    "        flag, t = run_exp(f)\n",
    "        if flag:\n",
    "            solved_num+= 1\n",
    "            total_time += t\n",
    "\n",
    "    str = \"Warehouse %s agents\"%agent_num + \", Solved %s/%s\\t Avg Time: %s\"%(solved_num, num, total_time/max(solved_num, 1))\n",
    "    print(str)\n",
    "    warehouse_report += str + \"\\n\""
   ]
  },
  {
   "cell_type": "code",
   "execution_count": 11,
   "metadata": {},
   "outputs": [
    {
     "name": "stdout",
     "output_type": "stream",
     "text": [
      "Warehouse 2 agents, Solved 30/30\t Avg Time: 3.4111041466395062\n",
      "Warehouse 4 agents, Solved 30/30\t Avg Time: 10.063934938112896\n",
      "Warehouse 6 agents, Solved 30/30\t Avg Time: 18.551144075393676\n",
      "Warehouse 8 agents, Solved 30/30\t Avg Time: 31.881833600997926\n",
      "Warehouse 10 agents, Solved 28/28\t Avg Time: 43.19117093086243\n",
      "Warehouse 12 agents, Solved 19/19\t Avg Time: 72.17175087175872\n",
      "Warehouse 14 agents, Solved 2/2\t Avg Time: 92.9521416425705\n",
      "\n"
     ]
    }
   ],
   "source": [
    "print(warehouse_report)"
   ]
  },
  {
   "cell_type": "code",
   "execution_count": 10,
   "metadata": {},
   "outputs": [],
   "source": [
    "agent_num = 12\n",
    "files = glob.glob(\"./data/warehouse/%s/*.pkl\"%agent_num)"
   ]
  },
  {
   "cell_type": "code",
   "execution_count": 11,
   "metadata": {},
   "outputs": [],
   "source": [
    "run_time = []\n",
    "for fname in files:\n",
    "    with open(fname, \"rb\") as f:\n",
    "        model = pickle.load(f)\n",
    "        run_time.append(model.opt_time)"
   ]
  },
  {
   "cell_type": "code",
   "execution_count": 12,
   "metadata": {},
   "outputs": [
    {
     "name": "stderr",
     "output_type": "stream",
     "text": [
      "c:\\Users\\shrav\\anaconda3\\lib\\site-packages\\numpy\\lib\\function_base.py:380: RuntimeWarning: Mean of empty slice.\n",
      "  avg = a.mean(axis)\n",
      "c:\\Users\\shrav\\anaconda3\\lib\\site-packages\\numpy\\core\\_methods.py:189: RuntimeWarning: invalid value encountered in double_scalars\n",
      "  ret = ret.dtype.type(ret / rcount)\n"
     ]
    },
    {
     "data": {
      "text/plain": [
       "nan"
      ]
     },
     "execution_count": 12,
     "metadata": {},
     "output_type": "execute_result"
    }
   ],
   "source": [
    "np.average(run_time)"
   ]
  },
  {
   "cell_type": "code",
   "execution_count": 13,
   "metadata": {},
   "outputs": [
    {
     "name": "stdout",
     "output_type": "stream",
     "text": [
      "Agent: 2\t, Avg Time: 16.089466666666674\n",
      "Agent: 4\t, Avg Time: 52.921666666666674\n",
      "Agent: 6\t, Avg Time: 213.8689666666667\n",
      "Agent: 8\t, Avg Time: 11409.244399999998\n",
      "Agent: 10\t, Avg Time: 25819.122428571434\n",
      "Agent: 12\t, Avg Time: 68112.49963157896\n",
      "Agent: 14\t, Avg Time: 36938.367500000626\n"
     ]
    }
   ],
   "source": [
    "for agent_num in [2, 4, 6, 8, 10, 12, 14]:\n",
    "    files = glob.glob(\"./data/warehouse/%s/*\"%agent_num)\n",
    "    files = [f for f in files if f[-4:] != \".pkl\"]\n",
    "    time = [read_time(f) for f in files]\n",
    "\n",
    "    str = \"Agent: %s\\t\"%agent_num +  \", Avg Time: %s\"%np.average(time)\n",
    "    print(str)\n"
   ]
  },
  {
   "cell_type": "code",
   "execution_count": null,
   "metadata": {},
   "outputs": [],
   "source": []
  }
 ],
 "metadata": {
  "kernelspec": {
   "display_name": "Python 3.9.12 ('base')",
   "language": "python",
   "name": "python3"
  },
  "language_info": {
   "codemirror_mode": {
    "name": "ipython",
    "version": 3
   },
   "file_extension": ".py",
   "mimetype": "text/x-python",
   "name": "python",
   "nbconvert_exporter": "python",
   "pygments_lexer": "ipython3",
   "version": "3.9.12"
  },
  "vscode": {
   "interpreter": {
    "hash": "6cf90320e821465feb7ff84205bd5f9a899e5b815829384b2cf329c75cd5ee5a"
   }
  }
 },
 "nbformat": 4,
 "nbformat_minor": 2
}
